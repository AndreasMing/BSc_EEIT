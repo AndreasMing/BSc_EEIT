{
 "cells": [
  {
   "cell_type": "markdown",
   "metadata": {},
   "source": [
    "# Serie 1"
   ]
  },
  {
   "cell_type": "code",
   "execution_count": 24,
   "metadata": {},
   "outputs": [],
   "source": [
    "import numpy as np\n",
    "import pandas as pd\n",
    "import matplotlib.pyplot as plt"
   ]
  },
  {
   "cell_type": "markdown",
   "metadata": {},
   "source": [
    "## Aufgabe 1.1"
   ]
  },
  {
   "cell_type": "code",
   "execution_count": 31,
   "metadata": {},
   "outputs": [
    {
     "name": "stdout",
     "output_type": "stream",
     "text": [
      "a)\n",
      " 0    4\n",
      "1    2\n",
      "2    1\n",
      "3    3\n",
      "4    3\n",
      "5    5\n",
      "6    7\n",
      "dtype: int64\n",
      "b) x[2] = 1\n",
      "c) x[0] = 4\n",
      "   x[3] = 3\n",
      "d) len(x) = 7\n",
      "e) 0    6\n",
      "1    4\n",
      "2    3\n",
      "3    5\n",
      "4    5\n",
      "5    7\n",
      "6    9\n",
      "dtype: int64\n",
      "f) 39\n",
      "g) 0    False\n",
      "1     True\n",
      "2     True\n",
      "3     True\n",
      "4     True\n",
      "5    False\n",
      "6    False\n",
      "dtype: bool\n",
      "h) x[x <= 3]\n",
      " 1    2\n",
      "2    1\n",
      "3    3\n",
      "4    3\n",
      "dtype: int64\n",
      "i) np.sort(x)\n",
      " [1 2 3 3 4 5 7]\n",
      "j) np.argsort(x)\n",
      "0    2\n",
      "1    1\n",
      "2    3\n",
      "3    4\n",
      "4    0\n",
      "5    5\n",
      "6    6\n",
      "dtype: int64\n",
      "0    3\n",
      "1    2\n",
      "2    4\n",
      "3    5\n",
      "4    1\n",
      "5    6\n",
      "6    7\n",
      "dtype: int64\n",
      "k) 3 -> x[3] = 8 ->8\n"
     ]
    }
   ],
   "source": [
    "# a)\n",
    "x = pd.Series([4,2,1,3,3,5,7])\n",
    "print(\"a)\\n\",x)\n",
    "\n",
    "# b)\n",
    "print(\"b) x[2] =\", x[2])\n",
    "\n",
    "# c)\n",
    "print(\"c) x[0] =\", x[0])\n",
    "print(\"   x[3] =\", x[3])\n",
    "\n",
    "# d)\n",
    "print(\"d) len(x) =\", len(x))\n",
    "\n",
    "# e) - Addiert jedem Element der Liste 2 hinzu\n",
    "print(\"e)\",x+2)\n",
    "\n",
    "# f) - Addiert alle Elemente zusammen\n",
    "print(\"f)\",np.sum(x+2))\n",
    "\n",
    "# g) - Gibt eine Bool-Liste zurück für jedes Element!\n",
    "print(\"g)\", x <= 3)\n",
    "\n",
    "# h) - Gibt nur Elemente zurück, welche kleiner gleich 3 sind.\n",
    "print(\"h) x[x <= 3]\\n\", x[x <= 3])\n",
    "\n",
    "# i) - Sortiert die Elemente nach Wert\n",
    "print(\"i) np.sort(x)\\n\", np.sort(x))\n",
    "\n",
    "# j) - Gibt die Index an, welche \n",
    "print(f\"j) np.argsort(x)\\n{np.argsort(x)}\\n{np.argsort(x)+1}\")\n",
    "\n",
    "# k)\n",
    "print(f\"k) {x[3]} -> x[3] = 8 -> \",end=\"\")\n",
    "x[3] = 8\n",
    "print(x[3])"
   ]
  },
  {
   "cell_type": "markdown",
   "metadata": {},
   "source": [
    "## Aufgabe 1.2"
   ]
  },
  {
   "cell_type": "code",
   "execution_count": 32,
   "metadata": {},
   "outputs": [
    {
     "name": "stdout",
     "output_type": "stream",
     "text": [
      "0    19.591837\n",
      "1    22.222222\n",
      "2    20.936639\n",
      "3    24.930748\n",
      "4    31.377989\n",
      "5    19.736301\n",
      "dtype: float64\n"
     ]
    }
   ],
   "source": [
    "weight = pd.Series([60, 72, 57, 90, 95, 72])  # kg\n",
    "height = pd.Series([1.75, 1.80, 1.65, 1.90, 1.74, 1.91])  # m\n",
    "\n",
    "BMI = weight / (height**2)\n",
    "\n",
    "print(BMI)\n"
   ]
  },
  {
   "cell_type": "markdown",
   "metadata": {},
   "source": [
    "## Aufgabe 1.3"
   ]
  },
  {
   "cell_type": "code",
   "execution_count": 36,
   "metadata": {},
   "outputs": [
    {
     "name": "stdout",
     "output_type": "stream",
     "text": [
      "fahrenheit=0    51.9\n",
      "1    51.8\n",
      "2    51.9\n",
      "3    53.0\n",
      "dtype: float64\n",
      "\n",
      "celsius=0    11.055556\n",
      "1    11.000000\n",
      "2    11.055556\n",
      "3    11.666667\n",
      "dtype: float64\n",
      "diff=0    3.9\n",
      "1    3.6\n",
      "2    3.9\n",
      "3    4.3\n",
      "dtype: float64\n"
     ]
    }
   ],
   "source": [
    "fahrenheit = pd.Series([51.9, 51.8, 51.9, 53])\n",
    "\n",
    "celsius = 5/9 * (fahrenheit - 32)\n",
    "print(f\"{fahrenheit=}\\n\\n{celsius=}\")\n",
    "\n",
    "diff = fahrenheit - pd.Series([48, 48.2, 48, 48.7])\n",
    "print(f\"{diff=}\")"
   ]
  },
  {
   "cell_type": "markdown",
   "metadata": {},
   "source": [
    "## Aufgabe 1.4"
   ]
  },
  {
   "cell_type": "code",
   "execution_count": 64,
   "metadata": {},
   "outputs": [
    {
     "name": "stdout",
     "output_type": "stream",
     "text": [
      "a) \n",
      "len(winner)=19\n",
      "len(opponent)=19\n",
      "(len(winner)==len(opponent))=True\n",
      "b) \n",
      "winner[5:10]=5    182\n",
      "6    188\n",
      "7    188\n",
      "8    188\n",
      "9    185\n",
      "dtype: int64\n",
      "\n",
      "c) \n",
      " 2     185\n",
      "4     182\n",
      "9     185\n",
      "10    185\n",
      "11    177\n",
      "dtype: int64\n",
      "d)\n",
      " 6    189\n",
      "7    189\n",
      "dtype: int64\n",
      "e)\n",
      "winner.mean()=183.84 [vs.] opponent.mean()=181.05\n",
      "f)\n",
      "Differenz: 2.79 cm\n",
      "g) winner.var()=22.25, winner.std()=4.72\n",
      "h) variance=22.25, standard_deviation=4.72\n"
     ]
    }
   ],
   "source": [
    "\n",
    "\n",
    "\n",
    "winner = pd.Series([182,191, 185, 185, 182, 182, 188, 188, 188, 185, 185, 177, 182, 182, 193, 183, 179, 179, 175])\n",
    "opponent = pd.Series([191,165, 187, 175, 193, 185, 187, 188, 173, 180, 177, 183, 185, 180, 180, 182, 178, 178, 173])\n",
    "\n",
    "print(f\"a) \\n{len(winner)=}\\n{len(opponent)=}\\n{(len(winner)==len(opponent))=}\")\n",
    "print(f\"b) \\n{winner[5:10]=}\\n\")\n",
    "print(f\"c) \\n\",winner[[2,4,9,10,11]])\n",
    "\n",
    "winner[[6,7]] = 189\n",
    "print(f\"d)\\n\",winner[6:8])\n",
    "print(f\"e)\\n{winner.mean()=:,.2f} [vs.] {opponent.mean()=:,.2f}\")\n",
    "\n",
    "print(f\"f)\\nDifferenz: {winner.mean() - opponent.mean():,.2f} cm\")\n",
    "print(f\"g) {winner.var()=:,.2f}, {winner.std()=:,.2f}\")\n",
    "\n",
    "sum = 0\n",
    "for value in winner:\n",
    "  sum += (value - winner.mean())**2\n",
    "\n",
    "variance = sum/(len(winner)-1)\n",
    "standard_deviation = np.sqrt(variance)\n",
    "\n",
    "print(f\"h) {variance=:,.2f}, {standard_deviation=:,.2f}\")"
   ]
  },
  {
   "cell_type": "markdown",
   "metadata": {},
   "source": [
    "## Aufgabe 1.5"
   ]
  },
  {
   "cell_type": "code",
   "execution_count": 74,
   "metadata": {},
   "outputs": [
    {
     "name": "stdout",
     "output_type": "stream",
     "text": [
      "data.shape=(30, 21)\n",
      "Mittelwert -------------- \n",
      "Average.disposable.income         19.361750\n",
      "Children.in.poor.homes            13.993421\n",
      "Educational.Deprivation            6.848588\n",
      "Overcrowding                      30.799019\n",
      "Poor.environmental.conditions     22.723853\n",
      "Average.mean.literacy.score      376.744830\n",
      "Literacy.inequality                4.998563\n",
      "Youth.NEET.rate                   12.427179\n",
      "Low.birth.weight                   9.121417\n",
      "Infant.mortality                   9.853553\n",
      "Breastfeeding.rates               66.757361\n",
      "Vaccination.rates..pertussis.     73.811649\n",
      "Vaccination.rates.measles.        72.315797\n",
      "Physical.activity                 20.549075\n",
      "Mortality.rates                   24.435598\n",
      "Suicide.rates                      9.619802\n",
      "Smoking                           16.400544\n",
      "Drunkenness                       15.268974\n",
      "Teenage.births                    20.552166\n",
      "Bullying                          12.634454\n",
      "Liking.school                     26.696407\n",
      "dtype: float64\n",
      "Median ------------------ \n",
      "Average.disposable.income         19.977450\n",
      "Children.in.poor.homes            12.015623\n",
      "Educational.Deprivation            2.436667\n",
      "Overcrowding                      23.787488\n",
      "Poor.environmental.conditions     24.608749\n",
      "Average.mean.literacy.score      489.533500\n",
      "Literacy.inequality                1.673912\n",
      "Youth.NEET.rate                    6.933717\n",
      "Low.birth.weight                   6.696667\n",
      "Infant.mortality                   4.878378\n",
      "Breastfeeding.rates               82.513793\n",
      "Vaccination.rates..pertussis.     92.387931\n",
      "Vaccination.rates.measles.        89.758621\n",
      "Physical.activity                 19.717308\n",
      "Mortality.rates                   23.874483\n",
      "Suicide.rates                      6.820522\n",
      "Smoking                           16.556250\n",
      "Drunkenness                       14.887500\n",
      "Teenage.births                    14.733663\n",
      "Bullying                          10.314583\n",
      "Liking.school                     25.300000\n",
      "dtype: float64\n"
     ]
    }
   ],
   "source": [
    "data = pd.read_csv(\"./child.csv\", sep=\",\", index_col=0)\n",
    "\n",
    "print(f\"{data.shape=}\")\n",
    "data_described = data.describe()\n",
    "print(f\"Mittelwert -------------- \\n{data_described.mean()}\")\n",
    "print(f\"Median ------------------ \\n{data_described.median()}\")\n"
   ]
  }
 ],
 "metadata": {
  "kernelspec": {
   "display_name": "Python 3.10.4 64-bit",
   "language": "python",
   "name": "python3"
  },
  "language_info": {
   "codemirror_mode": {
    "name": "ipython",
    "version": 3
   },
   "file_extension": ".py",
   "mimetype": "text/x-python",
   "name": "python",
   "nbconvert_exporter": "python",
   "pygments_lexer": "ipython3",
   "version": "3.10.4"
  },
  "orig_nbformat": 4,
  "vscode": {
   "interpreter": {
    "hash": "546f13b69da2962342bc38bd9c14a62503869531149da76b165cebcf3f8efe14"
   }
  }
 },
 "nbformat": 4,
 "nbformat_minor": 2
}
