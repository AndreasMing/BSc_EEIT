{
 "cells": [
  {
   "cell_type": "code",
   "execution_count": 67,
   "metadata": {},
   "outputs": [],
   "source": [
    "# import required libraries\n",
    "from pandas import Series\n",
    "import pandas as pd\n",
    "import numpy as np\n",
    "import matplotlib as mpl\n",
    "import matplotlib.pyplot as plt\n",
    "\n",
    "# [CONFIGS] --------------------------------------\n",
    "mpl.rcParams['figure.dpi'] = 120"
   ]
  },
  {
   "cell_type": "markdown",
   "metadata": {},
   "source": [
    "# Deskriptive Statistik\n"
   ]
  },
  {
   "cell_type": "markdown",
   "metadata": {},
   "source": [
    "\n",
    "## Eindimensionale Daten"
   ]
  },
  {
   "cell_type": "code",
   "execution_count": 68,
   "metadata": {},
   "outputs": [
    {
     "data": {
      "text/plain": [
       "7     79.97\n",
       "0     79.98\n",
       "11    80.00\n",
       "2     80.02\n",
       "10    80.02\n",
       "12    80.02\n",
       "4     80.03\n",
       "5     80.03\n",
       "9     80.03\n",
       "1     80.04\n",
       "3     80.04\n",
       "6     80.04\n",
       "8     80.05\n",
       "dtype: float64"
      ]
     },
     "execution_count": 68,
     "metadata": {},
     "output_type": "execute_result"
    }
   ],
   "source": [
    "from pandas import Series\n",
    "import pandas as pd\n",
    "import numpy as np\n",
    "\n",
    "methodeA = Series([79.98, 80.04, 80.02, 80.04, 80.03, 80.03, 80.04, 79.97, 80.05, 80.03, 80.02, 80.00, 80.02])\n",
    "\n",
    "methodeA.sort_values()"
   ]
  },
  {
   "cell_type": "markdown",
   "metadata": {},
   "source": [
    "### Mittelwert"
   ]
  },
  {
   "cell_type": "code",
   "execution_count": 69,
   "metadata": {},
   "outputs": [
    {
     "name": "stdout",
     "output_type": "stream",
     "text": [
      "80.02076923076923\n"
     ]
    }
   ],
   "source": [
    "print(methodeA.mean())"
   ]
  },
  {
   "cell_type": "markdown",
   "metadata": {},
   "source": [
    "### Varianz"
   ]
  },
  {
   "cell_type": "code",
   "execution_count": 70,
   "metadata": {},
   "outputs": [
    {
     "data": {
      "text/plain": [
       "0.0005743589743590099"
      ]
     },
     "execution_count": 70,
     "metadata": {},
     "output_type": "execute_result"
    }
   ],
   "source": [
    "methodeA.var()"
   ]
  },
  {
   "cell_type": "markdown",
   "metadata": {},
   "source": [
    "### Standardabweichung"
   ]
  },
  {
   "cell_type": "code",
   "execution_count": 71,
   "metadata": {},
   "outputs": [
    {
     "data": {
      "text/plain": [
       "0.023965787580611863"
      ]
     },
     "execution_count": 71,
     "metadata": {},
     "output_type": "execute_result"
    }
   ],
   "source": [
    "methodeA.std()"
   ]
  },
  {
   "cell_type": "markdown",
   "metadata": {},
   "source": [
    "### Median $x_{(n)}$\n",
    "\n",
    "Beispiel $x_1 = 3, x_2 = 7, x_3 = 2$:\n",
    "\n",
    "$$\n",
    "x_{(1)} = x_3 = 2 \\qquad x_{(2)} = x_1 = 3\\qquad x_{(3)} = x_2 = 7\n",
    "$$"
   ]
  },
  {
   "cell_type": "code",
   "execution_count": 72,
   "metadata": {},
   "outputs": [
    {
     "data": {
      "text/plain": [
       "7     79.97\n",
       "0     79.98\n",
       "11    80.00\n",
       "2     80.02\n",
       "10    80.02\n",
       "12    80.02\n",
       "4     80.03\n",
       "5     80.03\n",
       "9     80.03\n",
       "1     80.04\n",
       "3     80.04\n",
       "6     80.04\n",
       "8     80.05\n",
       "dtype: float64"
      ]
     },
     "execution_count": 72,
     "metadata": {},
     "output_type": "execute_result"
    }
   ],
   "source": [
    "methodeA.sort_values()"
   ]
  },
  {
   "cell_type": "code",
   "execution_count": 73,
   "metadata": {},
   "outputs": [
    {
     "data": {
      "text/plain": [
       "80.03"
      ]
     },
     "execution_count": 73,
     "metadata": {},
     "output_type": "execute_result"
    }
   ],
   "source": [
    "methodeA.median() # same as: methodeA.quantile(0.5)"
   ]
  },
  {
   "cell_type": "markdown",
   "metadata": {},
   "source": [
    "#### Gerade Anzahl Elemente"
   ]
  },
  {
   "cell_type": "code",
   "execution_count": 74,
   "metadata": {},
   "outputs": [
    {
     "data": {
      "text/plain": [
       "79.975"
      ]
     },
     "execution_count": 74,
     "metadata": {},
     "output_type": "execute_result"
    }
   ],
   "source": [
    "methodeB = Series([80.02, 79.94, 79.98, 79.97, 79.98, 80.03, 79.95, 79.97])\n",
    "methodeB.median()"
   ]
  },
  {
   "cell_type": "markdown",
   "metadata": {},
   "source": [
    "### Quartile\n",
    "\n",
    "Die `methodeA` Länge ist $13$ Elemente. Der Untere Quartil-Index ist $13\\cdot 0.25 = 3.25$. Da der Index nur ganzzahlig ist, wird der **nächstgrössere** Wert genommen, also $x_{(4)}$."
   ]
  },
  {
   "cell_type": "code",
   "execution_count": 75,
   "metadata": {},
   "outputs": [
    {
     "name": "stdout",
     "output_type": "stream",
     "text": [
      "methodeA: 80.02 80.03 80.04\n",
      "methodeB: 79.965 79.975 79.99000000000001\n"
     ]
    }
   ],
   "source": [
    "print(\"methodeA:\",\n",
    "      methodeA.quantile(0.25, interpolation=\"higher\"),\n",
    "      methodeA.median(),\n",
    "      methodeA.quantile(0.75))\n",
    "print(\"methodeB:\", methodeB.quantile(0.25), methodeB.median(), methodeB.quantile(0.75))"
   ]
  },
  {
   "cell_type": "markdown",
   "metadata": {},
   "source": [
    "### Quartilsdifferenz"
   ]
  },
  {
   "cell_type": "code",
   "execution_count": 76,
   "metadata": {},
   "outputs": [
    {
     "data": {
      "text/plain": [
       "0.020000000000010232"
      ]
     },
     "execution_count": 76,
     "metadata": {},
     "output_type": "execute_result"
    }
   ],
   "source": [
    "q75, q25 = methodeA.quantile(q = [.75, .25], interpolation=\"lower\")\n",
    "\n",
    "iqr = q75 - q25\n",
    "iqr"
   ]
  },
  {
   "cell_type": "markdown",
   "metadata": {},
   "source": [
    "### Empirische $\\alpha$-Quantile ($0< \\alpha < 1$)"
   ]
  },
  {
   "cell_type": "code",
   "execution_count": 77,
   "metadata": {},
   "outputs": [
    {
     "name": "stdout",
     "output_type": "stream",
     "text": [
      "79.98\n",
      "80.03\n"
     ]
    }
   ],
   "source": [
    "print(methodeA.quantile(q=0.1, interpolation=\"lower\"))\n",
    "print(methodeA.quantile(q=0.7, interpolation=\"lower\"))"
   ]
  },
  {
   "cell_type": "markdown",
   "metadata": {},
   "source": [
    "---"
   ]
  },
  {
   "cell_type": "code",
   "execution_count": 78,
   "metadata": {},
   "outputs": [
    {
     "data": {
      "text/plain": [
       "0.2    3.6\n",
       "0.4    4.2\n",
       "0.6    4.9\n",
       "0.8    5.5\n",
       "1.0    6.0\n",
       "dtype: float64"
      ]
     },
     "execution_count": 78,
     "metadata": {},
     "output_type": "execute_result"
    }
   ],
   "source": [
    "noten = Series([4.2, 2.3, 5.6, 4.5, 4.8, 3.9, 5.9, 2.4, 5.9, 6, 4, 3.7, 5, 5.2, 4.5, 3.6, 5, 6, 2.8, 3.3, 5.5, 4.2, 4.9, 5.1])\n",
    "noten.quantile(q = np.linspace(.2,1,5), interpolation=\"lower\")"
   ]
  },
  {
   "cell_type": "markdown",
   "metadata": {},
   "source": [
    "---\n",
    "\n",
    "## Zweidimensionaler Daten (SW2)\n",
    "\n",
    "### Weinkonsum & Mortalität Herzerkrankung"
   ]
  },
  {
   "cell_type": "code",
   "execution_count": 79,
   "metadata": {},
   "outputs": [
    {
     "data": {
      "text/html": [
       "<div>\n",
       "<style scoped>\n",
       "    .dataframe tbody tr th:only-of-type {\n",
       "        vertical-align: middle;\n",
       "    }\n",
       "\n",
       "    .dataframe tbody tr th {\n",
       "        vertical-align: top;\n",
       "    }\n",
       "\n",
       "    .dataframe thead th {\n",
       "        text-align: right;\n",
       "    }\n",
       "</style>\n",
       "<table border=\"1\" class=\"dataframe\">\n",
       "  <thead>\n",
       "    <tr style=\"text-align: right;\">\n",
       "      <th></th>\n",
       "      <th>wine</th>\n",
       "      <th>mor</th>\n",
       "    </tr>\n",
       "  </thead>\n",
       "  <tbody>\n",
       "    <tr>\n",
       "      <th>Norwegen</th>\n",
       "      <td>2.8</td>\n",
       "      <td>6.2</td>\n",
       "    </tr>\n",
       "    <tr>\n",
       "      <th>Schottland</th>\n",
       "      <td>3.2</td>\n",
       "      <td>9.0</td>\n",
       "    </tr>\n",
       "    <tr>\n",
       "      <th>Grossbritannien</th>\n",
       "      <td>3.2</td>\n",
       "      <td>7.1</td>\n",
       "    </tr>\n",
       "    <tr>\n",
       "      <th>Irland</th>\n",
       "      <td>3.4</td>\n",
       "      <td>6.8</td>\n",
       "    </tr>\n",
       "    <tr>\n",
       "      <th>Finnland</th>\n",
       "      <td>4.3</td>\n",
       "      <td>10.2</td>\n",
       "    </tr>\n",
       "    <tr>\n",
       "      <th>Kanada</th>\n",
       "      <td>4.9</td>\n",
       "      <td>7.8</td>\n",
       "    </tr>\n",
       "    <tr>\n",
       "      <th>VereinigteStaaten</th>\n",
       "      <td>5.1</td>\n",
       "      <td>9.3</td>\n",
       "    </tr>\n",
       "    <tr>\n",
       "      <th>Niederlande</th>\n",
       "      <td>5.2</td>\n",
       "      <td>5.9</td>\n",
       "    </tr>\n",
       "    <tr>\n",
       "      <th>NewZealand</th>\n",
       "      <td>5.9</td>\n",
       "      <td>8.9</td>\n",
       "    </tr>\n",
       "    <tr>\n",
       "      <th>Dänemark</th>\n",
       "      <td>5.9</td>\n",
       "      <td>5.5</td>\n",
       "    </tr>\n",
       "    <tr>\n",
       "      <th>Schweden</th>\n",
       "      <td>6.6</td>\n",
       "      <td>7.1</td>\n",
       "    </tr>\n",
       "    <tr>\n",
       "      <th>Australien</th>\n",
       "      <td>8.3</td>\n",
       "      <td>9.1</td>\n",
       "    </tr>\n",
       "    <tr>\n",
       "      <th>Belgien</th>\n",
       "      <td>12.6</td>\n",
       "      <td>5.1</td>\n",
       "    </tr>\n",
       "    <tr>\n",
       "      <th>Deutschland</th>\n",
       "      <td>15.1</td>\n",
       "      <td>4.7</td>\n",
       "    </tr>\n",
       "    <tr>\n",
       "      <th>Österreich</th>\n",
       "      <td>25.1</td>\n",
       "      <td>4.7</td>\n",
       "    </tr>\n",
       "    <tr>\n",
       "      <th>Schweiz</th>\n",
       "      <td>33.1</td>\n",
       "      <td>3.1</td>\n",
       "    </tr>\n",
       "    <tr>\n",
       "      <th>Italien</th>\n",
       "      <td>75.9</td>\n",
       "      <td>3.2</td>\n",
       "    </tr>\n",
       "    <tr>\n",
       "      <th>Frankreich</th>\n",
       "      <td>75.9</td>\n",
       "      <td>2.1</td>\n",
       "    </tr>\n",
       "  </tbody>\n",
       "</table>\n",
       "</div>"
      ],
      "text/plain": [
       "                   wine   mor\n",
       "Norwegen            2.8   6.2\n",
       "Schottland          3.2   9.0\n",
       "Grossbritannien     3.2   7.1\n",
       "Irland              3.4   6.8\n",
       "Finnland            4.3  10.2\n",
       "Kanada              4.9   7.8\n",
       "VereinigteStaaten   5.1   9.3\n",
       "Niederlande         5.2   5.9\n",
       "NewZealand          5.9   8.9\n",
       "Dänemark            5.9   5.5\n",
       "Schweden            6.6   7.1\n",
       "Australien          8.3   9.1\n",
       "Belgien            12.6   5.1\n",
       "Deutschland        15.1   4.7\n",
       "Österreich         25.1   4.7\n",
       "Schweiz            33.1   3.1\n",
       "Italien            75.9   3.2\n",
       "Frankreich         75.9   2.1"
      ]
     },
     "execution_count": 79,
     "metadata": {},
     "output_type": "execute_result"
    }
   ],
   "source": [
    "wkm = pd.DataFrame({\n",
    "    \"wine\": ([2.8, 3.2, 3.2, 3.4, 4.3, 4.9, 5.1, 5.2, 5.9,\n",
    "              5.9, 6.6, 8.3, 12.6, 15.1, 25.1, 33.1, 75.9, 75.9]),\n",
    "    \"mor\": ([6.2, 9.0, 7.1, 6.8, 10.2, 7.8, 9.3, 5.9, 8.9,\n",
    "             5.5, 7.1, 9.1, 5.1, 4.7, 4.7, 3.1, 3.2, 2.1])\n",
    "})\n",
    "wkm.index = pd.Index([\"Norwegen\", \"Schottland\", \"Grossbritannien\", \"Irland\", \"Finnland\", \"Kanada\", \"VereinigteStaaten\", \"Niederlande\",\n",
    "                      \"NewZealand\", \"Dänemark\", \"Schweden\", \"Australien\", \"Belgien\", \"Deutschland\", \"Österreich\", \"Schweiz\", \"Italien\", \"Frankreich\"])\n",
    "\n",
    "wkm"
   ]
  },
  {
   "cell_type": "code",
   "execution_count": 80,
   "metadata": {},
   "outputs": [
    {
     "data": {
      "image/png": "[encoded data removed]",
      "text/plain": [
       "<Figure size 720x480 with 1 Axes>"
      ]
     },
     "metadata": {
      "needs_background": "light"
     },
     "output_type": "display_data"
    }
   ],
   "source": [
    "wkm.plot(kind=\"scatter\", x=\"wine\", y=\"mor\")\n",
    "plt.xlabel(\"Weinkonsum (Liter pro Jahr und Person)\")\n",
    "plt.ylabel(\"Mortalität\")\n",
    "plt.show()\n"
   ]
  },
  {
   "cell_type": "markdown",
   "metadata": {},
   "source": [
    "### Regressionsgerade und Residuum\n"
   ]
  },
  {
   "cell_type": "code",
   "execution_count": 95,
   "metadata": {},
   "outputs": [
    {
     "data": {
      "text/html": [
       "<div>\n",
       "<style scoped>\n",
       "    .dataframe tbody tr th:only-of-type {\n",
       "        vertical-align: middle;\n",
       "    }\n",
       "\n",
       "    .dataframe tbody tr th {\n",
       "        vertical-align: top;\n",
       "    }\n",
       "\n",
       "    .dataframe thead th {\n",
       "        text-align: right;\n",
       "    }\n",
       "</style>\n",
       "<table border=\"1\" class=\"dataframe\">\n",
       "  <thead>\n",
       "    <tr style=\"text-align: right;\">\n",
       "      <th></th>\n",
       "      <th>pages</th>\n",
       "      <th>prices</th>\n",
       "    </tr>\n",
       "  </thead>\n",
       "  <tbody>\n",
       "    <tr>\n",
       "      <th>Buch 1</th>\n",
       "      <td>50.0</td>\n",
       "      <td>6.4</td>\n",
       "    </tr>\n",
       "    <tr>\n",
       "      <th>Buch 2</th>\n",
       "      <td>100.0</td>\n",
       "      <td>9.5</td>\n",
       "    </tr>\n",
       "    <tr>\n",
       "      <th>Buch 3</th>\n",
       "      <td>150.0</td>\n",
       "      <td>15.6</td>\n",
       "    </tr>\n",
       "    <tr>\n",
       "      <th>Buch 4</th>\n",
       "      <td>200.0</td>\n",
       "      <td>15.1</td>\n",
       "    </tr>\n",
       "    <tr>\n",
       "      <th>Buch 5</th>\n",
       "      <td>250.0</td>\n",
       "      <td>17.8</td>\n",
       "    </tr>\n",
       "    <tr>\n",
       "      <th>Buch 6</th>\n",
       "      <td>300.0</td>\n",
       "      <td>23.4</td>\n",
       "    </tr>\n",
       "    <tr>\n",
       "      <th>Buch 7</th>\n",
       "      <td>350.0</td>\n",
       "      <td>23.4</td>\n",
       "    </tr>\n",
       "    <tr>\n",
       "      <th>Buch 8</th>\n",
       "      <td>400.0</td>\n",
       "      <td>22.5</td>\n",
       "    </tr>\n",
       "    <tr>\n",
       "      <th>Buch 9</th>\n",
       "      <td>450.0</td>\n",
       "      <td>26.1</td>\n",
       "    </tr>\n",
       "    <tr>\n",
       "      <th>Buch 10</th>\n",
       "      <td>500.0</td>\n",
       "      <td>29.1</td>\n",
       "    </tr>\n",
       "  </tbody>\n",
       "</table>\n",
       "</div>"
      ],
      "text/plain": [
       "         pages  prices\n",
       "Buch 1    50.0     6.4\n",
       "Buch 2   100.0     9.5\n",
       "Buch 3   150.0    15.6\n",
       "Buch 4   200.0    15.1\n",
       "Buch 5   250.0    17.8\n",
       "Buch 6   300.0    23.4\n",
       "Buch 7   350.0    23.4\n",
       "Buch 8   400.0    22.5\n",
       "Buch 9   450.0    26.1\n",
       "Buch 10  500.0    29.1"
      ]
     },
     "execution_count": 95,
     "metadata": {},
     "output_type": "execute_result"
    }
   ],
   "source": [
    "book = pd.DataFrame({\n",
    "  \"pages\": np.linspace(50,500,10),\n",
    "  \"prices\": ([6.4,9.5,15.6,15.1,17.8,23.4,23.4,22.5,26.1,29.1])\n",
    "})\n",
    "book.index = pd.Index([\"Buch 1\",\"Buch 2\",\"Buch 3\",\"Buch 4\",\"Buch 5\",\"Buch 6\",\"Buch 7\",\"Buch 8\",\"Buch 9\",\"Buch 10\"])\n",
    "\n",
    "book"
   ]
  },
  {
   "cell_type": "code",
   "execution_count": 103,
   "metadata": {},
   "outputs": [
    {
     "data": {
      "text/plain": [
       "Text(0, 0.5, 'Buchpreis')"
      ]
     },
     "execution_count": 103,
     "metadata": {},
     "output_type": "execute_result"
    },
    {
     "data": {
      "image/png": "[encoded data removed]",
      "text/plain": [
       "<Figure size 720x480 with 1 Axes>"
      ]
     },
     "metadata": {
      "needs_background": "light"
     },
     "output_type": "display_data"
    }
   ],
   "source": [
    "book.plot(kind=\"scatter\", x=\"pages\", y=\"prices\")\n",
    "plt.xlabel(\"Seitenzahl\")\n",
    "plt.ylabel(\"Buchpreis\")"
   ]
  },
  {
   "cell_type": "code",
   "execution_count": 105,
   "metadata": {},
   "outputs": [
    {
     "data": {
      "image/png": "[encoded data removed]",
      "text/plain": [
       "<Figure size 720x480 with 1 Axes>"
      ]
     },
     "metadata": {
      "needs_background": "light"
     },
     "output_type": "display_data"
    }
   ],
   "source": [
    "# draw same scatter graph with regression\n",
    "# prepare data\n",
    "x = np.linspace(book[\"pages\"].min(), book[\"pages\"].max())\n",
    "b, a = np.polyfit(book[\"pages\"], book[\"prices\"], deg=1)\n",
    "\n",
    "# plot\n",
    "book.plot(kind=\"scatter\", x=\"pages\", y=\"prices\")\n",
    "plt.plot(x, a+b*x, c=\"orange\")\n",
    "\n",
    "plt.xlabel(\"Seitenzahl\")\n",
    "plt.ylabel(\"Buchpreis\")\n",
    "plt.show()"
   ]
  },
  {
   "cell_type": "markdown",
   "metadata": {},
   "source": [
    "### Empirische Korrelation\n",
    "\n",
    "$$\n",
    "r = \\frac{\\sum_{i=1}^{n}(x_i - \\overline{x})(y_i - \\overline{y})}{\\sqrt{(\\sum_{i=1}^{n}(x_i - \\overline{x})^2)\\cdot(\\sum_{i=1}^{n}(y_i - \\overline{y})^2)}} = \\frac{\\text{cov}_{xy}}{s_x \\cdot s_y}\n",
    "$$\n",
    "\n",
    "$$\n",
    "s_m^2 = \\sum_{i=1}^{n}(m_i - \\overline{m})^2\n",
    "$$"
   ]
  },
  {
   "cell_type": "code",
   "execution_count": 112,
   "metadata": {},
   "outputs": [
    {
     "data": {
      "text/plain": [
       "0.9681121878410436"
      ]
     },
     "execution_count": 112,
     "metadata": {},
     "output_type": "execute_result"
    }
   ],
   "source": [
    "book.corr().iloc[0,1]"
   ]
  },
  {
   "cell_type": "code",
   "execution_count": 125,
   "metadata": {},
   "outputs": [
    {
     "name": "stdout",
     "output_type": "stream",
     "text": [
      "1070.8333333333333 <-> 1070.8333333333333\n"
     ]
    },
    {
     "data": {
      "text/html": [
       "<div>\n",
       "<style scoped>\n",
       "    .dataframe tbody tr th:only-of-type {\n",
       "        vertical-align: middle;\n",
       "    }\n",
       "\n",
       "    .dataframe tbody tr th {\n",
       "        vertical-align: top;\n",
       "    }\n",
       "\n",
       "    .dataframe thead th {\n",
       "        text-align: right;\n",
       "    }\n",
       "</style>\n",
       "<table border=\"1\" class=\"dataframe\">\n",
       "  <thead>\n",
       "    <tr style=\"text-align: right;\">\n",
       "      <th></th>\n",
       "      <th>pages</th>\n",
       "      <th>prices</th>\n",
       "    </tr>\n",
       "  </thead>\n",
       "  <tbody>\n",
       "    <tr>\n",
       "      <th>pages</th>\n",
       "      <td>22916.666667</td>\n",
       "      <td>1070.833333</td>\n",
       "    </tr>\n",
       "    <tr>\n",
       "      <th>prices</th>\n",
       "      <td>1070.833333</td>\n",
       "      <td>53.387667</td>\n",
       "    </tr>\n",
       "  </tbody>\n",
       "</table>\n",
       "</div>"
      ],
      "text/plain": [
       "               pages       prices\n",
       "pages   22916.666667  1070.833333\n",
       "prices   1070.833333    53.387667"
      ]
     },
     "execution_count": 125,
     "metadata": {},
     "output_type": "execute_result"
    }
   ],
   "source": [
    "print(f\"{np.sum((book['pages']-book['pages'].mean())*(book['prices']-book['prices'].mean()))/(len(book.index)-1)} <-> {book.cov().iloc[0,1]}\")\n",
    "\n",
    "book.cov()"
   ]
  }
 ],
 "metadata": {
  "kernelspec": {
   "display_name": "Python 3.10.4 64-bit",
   "language": "python",
   "name": "python3"
  },
  "language_info": {
   "codemirror_mode": {
    "name": "ipython",
    "version": 3
   },
   "file_extension": ".py",
   "mimetype": "text/x-python",
   "name": "python",
   "nbconvert_exporter": "python",
   "pygments_lexer": "ipython3",
   "version": "3.10.4"
  },
  "orig_nbformat": 4,
  "vscode": {
   "interpreter": {
    "hash": "546f13b69da2962342bc38bd9c14a62503869531149da76b165cebcf3f8efe14"
   }
  }
 },
 "nbformat": 4,
 "nbformat_minor": 2
}
