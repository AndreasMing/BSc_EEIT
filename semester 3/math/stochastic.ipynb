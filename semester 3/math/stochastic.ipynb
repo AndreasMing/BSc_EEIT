{
 "cells": [
  {
   "cell_type": "markdown",
   "metadata": {},
   "source": [
    "# Deskriptive Statistik\n",
    "\n",
    "## Eindimensionale Daten"
   ]
  },
  {
   "cell_type": "code",
   "execution_count": 37,
   "metadata": {},
   "outputs": [
    {
     "data": {
      "text/plain": [
       "7     79.97\n",
       "0     79.98\n",
       "11    80.00\n",
       "2     80.02\n",
       "10    80.02\n",
       "12    80.02\n",
       "4     80.03\n",
       "5     80.03\n",
       "9     80.03\n",
       "1     80.04\n",
       "3     80.04\n",
       "6     80.04\n",
       "8     80.05\n",
       "dtype: float64"
      ]
     },
     "execution_count": 37,
     "metadata": {},
     "output_type": "execute_result"
    }
   ],
   "source": [
    "from pandas import Series\n",
    "import pandas as pd\n",
    "import numpy as np\n",
    "\n",
    "methodeA = Series([79.98, 80.04, 80.02, 80.04, 80.03, 80.03, 80.04, 79.97, 80.05, 80.03, 80.02, 80.00, 80.02])\n",
    "\n",
    "methodeA.sort_values()"
   ]
  },
  {
   "cell_type": "markdown",
   "metadata": {},
   "source": [
    "### Mittelwert"
   ]
  },
  {
   "cell_type": "code",
   "execution_count": 38,
   "metadata": {},
   "outputs": [
    {
     "name": "stdout",
     "output_type": "stream",
     "text": [
      "80.02076923076923\n"
     ]
    }
   ],
   "source": [
    "print(methodeA.mean())"
   ]
  },
  {
   "cell_type": "markdown",
   "metadata": {},
   "source": [
    "### Varianz"
   ]
  },
  {
   "cell_type": "code",
   "execution_count": 39,
   "metadata": {},
   "outputs": [
    {
     "data": {
      "text/plain": [
       "0.0005743589743590099"
      ]
     },
     "execution_count": 39,
     "metadata": {},
     "output_type": "execute_result"
    }
   ],
   "source": [
    "methodeA.var()"
   ]
  },
  {
   "cell_type": "markdown",
   "metadata": {},
   "source": [
    "### Standardabweichung"
   ]
  },
  {
   "cell_type": "code",
   "execution_count": 40,
   "metadata": {},
   "outputs": [
    {
     "data": {
      "text/plain": [
       "0.023965787580611863"
      ]
     },
     "execution_count": 40,
     "metadata": {},
     "output_type": "execute_result"
    }
   ],
   "source": [
    "methodeA.std()"
   ]
  },
  {
   "cell_type": "markdown",
   "metadata": {},
   "source": [
    "### Median $x_{(n)}$\n",
    "\n",
    "Beispiel $x_1 = 3, x_2 = 7, x_3 = 2$:\n",
    "\n",
    "$$\n",
    "x_{(1)} = x_3 = 2 \\qquad x_{(2)} = x_1 = 3\\qquad x_{(3)} = x_2 = 7\n",
    "$$"
   ]
  },
  {
   "cell_type": "code",
   "execution_count": 41,
   "metadata": {},
   "outputs": [
    {
     "data": {
      "text/plain": [
       "7     79.97\n",
       "0     79.98\n",
       "11    80.00\n",
       "2     80.02\n",
       "10    80.02\n",
       "12    80.02\n",
       "4     80.03\n",
       "5     80.03\n",
       "9     80.03\n",
       "1     80.04\n",
       "3     80.04\n",
       "6     80.04\n",
       "8     80.05\n",
       "dtype: float64"
      ]
     },
     "execution_count": 41,
     "metadata": {},
     "output_type": "execute_result"
    }
   ],
   "source": [
    "methodeA.sort_values()"
   ]
  },
  {
   "cell_type": "code",
   "execution_count": 42,
   "metadata": {},
   "outputs": [
    {
     "data": {
      "text/plain": [
       "80.03"
      ]
     },
     "execution_count": 42,
     "metadata": {},
     "output_type": "execute_result"
    }
   ],
   "source": [
    "methodeA.median() # same as: methodeA.quantile(0.5)"
   ]
  },
  {
   "cell_type": "markdown",
   "metadata": {},
   "source": [
    "#### Gerade Anzahl Elemente"
   ]
  },
  {
   "cell_type": "code",
   "execution_count": 43,
   "metadata": {},
   "outputs": [
    {
     "data": {
      "text/plain": [
       "79.975"
      ]
     },
     "execution_count": 43,
     "metadata": {},
     "output_type": "execute_result"
    }
   ],
   "source": [
    "methodeB = Series([80.02, 79.94, 79.98, 79.97, 79.98, 80.03, 79.95, 79.97])\n",
    "methodeB.median()"
   ]
  },
  {
   "cell_type": "markdown",
   "metadata": {},
   "source": [
    "### Quartile\n",
    "\n",
    "Die `methodeA` Länge ist $13$ Elemente. Der Untere Quartil-Index ist $13\\cdot 0.25 = 3.25$. Da der Index nur ganzzahlig ist, wird der **nächstgrössere** Wert genommen, also $x_{(4)}$."
   ]
  },
  {
   "cell_type": "code",
   "execution_count": 44,
   "metadata": {},
   "outputs": [
    {
     "name": "stdout",
     "output_type": "stream",
     "text": [
      "methodeA: 80.02 80.03 80.04\n",
      "methodeB: 79.965 79.975 79.99000000000001\n"
     ]
    }
   ],
   "source": [
    "print(\"methodeA:\",\n",
    "      methodeA.quantile(0.25, interpolation=\"higher\"),\n",
    "      methodeA.median(),\n",
    "      methodeA.quantile(0.75))\n",
    "print(\"methodeB:\", methodeB.quantile(0.25), methodeB.median(), methodeB.quantile(0.75))"
   ]
  },
  {
   "cell_type": "markdown",
   "metadata": {},
   "source": [
    "### Quartilsdifferenz"
   ]
  },
  {
   "cell_type": "code",
   "execution_count": 45,
   "metadata": {},
   "outputs": [
    {
     "data": {
      "text/plain": [
       "0.020000000000010232"
      ]
     },
     "execution_count": 45,
     "metadata": {},
     "output_type": "execute_result"
    }
   ],
   "source": [
    "q75, q25 = methodeA.quantile(q = [.75, .25], interpolation=\"lower\")\n",
    "\n",
    "iqr = q75 - q25\n",
    "iqr"
   ]
  },
  {
   "cell_type": "markdown",
   "metadata": {},
   "source": [
    "### Empirische $\\alpha$-Quantile ($0< \\alpha < 1$)"
   ]
  },
  {
   "cell_type": "code",
   "execution_count": 46,
   "metadata": {},
   "outputs": [
    {
     "name": "stdout",
     "output_type": "stream",
     "text": [
      "79.98\n",
      "80.03\n"
     ]
    }
   ],
   "source": [
    "print(methodeA.quantile(q=0.1, interpolation=\"lower\"))\n",
    "print(methodeA.quantile(q=0.7, interpolation=\"lower\"))"
   ]
  },
  {
   "cell_type": "markdown",
   "metadata": {},
   "source": [
    "---"
   ]
  },
  {
   "cell_type": "code",
   "execution_count": 47,
   "metadata": {},
   "outputs": [
    {
     "data": {
      "text/plain": [
       "0.2    3.6\n",
       "0.4    4.2\n",
       "0.6    4.9\n",
       "0.8    5.5\n",
       "1.0    6.0\n",
       "dtype: float64"
      ]
     },
     "execution_count": 47,
     "metadata": {},
     "output_type": "execute_result"
    }
   ],
   "source": [
    "noten = Series([4.2, 2.3, 5.6, 4.5, 4.8, 3.9, 5.9, 2.4, 5.9, 6, 4, 3.7, 5, 5.2, 4.5, 3.6, 5, 6, 2.8, 3.3, 5.5, 4.2, 4.9, 5.1])\n",
    "noten.quantile(q = np.linspace(.2,1,5), interpolation=\"lower\")"
   ]
  }
 ],
 "metadata": {
  "kernelspec": {
   "display_name": "Python 3.10.4 64-bit",
   "language": "python",
   "name": "python3"
  },
  "language_info": {
   "codemirror_mode": {
    "name": "ipython",
    "version": 3
   },
   "file_extension": ".py",
   "mimetype": "text/x-python",
   "name": "python",
   "nbconvert_exporter": "python",
   "pygments_lexer": "ipython3",
   "version": "3.10.4"
  },
  "orig_nbformat": 4,
  "vscode": {
   "interpreter": {
    "hash": "546f13b69da2962342bc38bd9c14a62503869531149da76b165cebcf3f8efe14"
   }
  }
 },
 "nbformat": 4,
 "nbformat_minor": 2
}
