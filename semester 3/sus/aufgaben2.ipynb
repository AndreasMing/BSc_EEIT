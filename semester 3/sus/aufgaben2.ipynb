{
 "cells": [
  {
   "cell_type": "code",
   "execution_count": 1,
   "metadata": {},
   "outputs": [],
   "source": [
    "# import needed libraries for all plot and numbering stuff\n",
    "import numpy as np\n",
    "import pandas as pd\n",
    "import matplotlib as mpl\n",
    "import matplotlib.pyplot as plt\n",
    "\n",
    "# [CONFIGS] --------------------------------------\n",
    "mpl.rcParams['figure.dpi'] = 120"
   ]
  },
  {
   "cell_type": "markdown",
   "metadata": {},
   "source": [
    "![](./assets/thumbnail.jpg)\n",
    "\n",
    "# **Aufgaben 2**"
   ]
  },
  {
   "cell_type": "markdown",
   "metadata": {},
   "source": [
    "## Aufgabe 1\n",
    "\n",
    "Ein LTI-System ist gegeben durch die Differenzengleichung \n",
    "\n",
    "$$\n",
    "y[k]=\\frac13y[k-1]-\\frac12y[k-2]+3x[k]+x[k-2]\n",
    "$$\n",
    "\n",
    "Wie lautet die Übertragungsfunktion $H(z)$ des Systems?"
   ]
  },
  {
   "cell_type": "markdown",
   "metadata": {},
   "source": [
    "## Aufgabe 2\n",
    "\n",
    "Ein LTI-System ist gegeben durch die Übertragungsfunktion\n",
    "\n",
    "$$\n",
    "H(z)=\\frac{3z^2+\\frac12z}{z^2-\\frac14}\n",
    "$$\n",
    "\n",
    "1. Wie lautet die Differenzengleichung des Systems?\n",
    "2. Welches Ausgangssignal $y[k]$ ergibt sich als Antwort auf das Eingangssignal $x[k]=δ[k]$? (Hinweis: Führen Sie die Partialbruchzerlegung bei $Y(z)/z$ durch.)\n",
    "3. Bestimmen Sie die drei Werte $y[0]$,$y[1]$,$y[2]$ und verifizieren Sie diese mit Hilfe der Differenzengleichung."
   ]
  }
 ],
 "metadata": {
  "kernelspec": {
   "display_name": "Python 3.10.4 64-bit",
   "language": "python",
   "name": "python3"
  },
  "language_info": {
   "codemirror_mode": {
    "name": "ipython",
    "version": 3
   },
   "file_extension": ".py",
   "mimetype": "text/x-python",
   "name": "python",
   "nbconvert_exporter": "python",
   "pygments_lexer": "ipython3",
   "version": "3.10.4"
  },
  "orig_nbformat": 4,
  "vscode": {
   "interpreter": {
    "hash": "546f13b69da2962342bc38bd9c14a62503869531149da76b165cebcf3f8efe14"
   }
  }
 },
 "nbformat": 4,
 "nbformat_minor": 2
}
