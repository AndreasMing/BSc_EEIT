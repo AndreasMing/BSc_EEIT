{
  "cells": [
    {
      "cell_type": "markdown",
      "metadata": {
        "id": "iBVC8BUJbflW"
      },
      "source": [
        "# Aufgaben zum Kapitel *Einführung*"
      ]
    },
    {
      "cell_type": "code",
      "execution_count": null,
      "metadata": {},
      "outputs": [],
      "source": []
    },
    {
      "cell_type": "markdown",
      "metadata": {
        "id": "9KrkTpJBwj9r"
      },
      "source": [
        "## Aufgabe 1"
      ]
    },
    {
      "cell_type": "markdown",
      "metadata": {
        "id": "IK0JopyrwrX2"
      },
      "source": [
        "Geben Sie die Energie $E_x$ des Signals $$x[k]=2\\cdot\\varepsilon[k]-\\varepsilon[k-4]-3\\cdot\\varepsilon[k-8]+2\\cdot\\varepsilon[k-12]$$ an."
      ]
    },
    {
      "cell_type": "markdown",
      "metadata": {},
      "source": [
        "![](./assets/sw1_aufg1.png)\n",
        "\n",
        "$$\n",
        "\\underline{E_x} = \\displaystyle\\sum_{k=0}^{\\infty} = (2 + 2 + 2 + 2 + 1 + 1 + 1 + 1 - 2 - 2 - 2 - 2 + 0 + 0 + 0 + \\cdots + 0) = 4 \\cdot 2^2 + 4 \\cdot 1^2 + 4 \\cdot (-2)^2 = \\underline{36}\n",
        "$$"
      ]
    },
    {
      "cell_type": "markdown",
      "metadata": {
        "id": "T_goSp8sonYX"
      },
      "source": [
        "## Aufgabe 2"
      ]
    },
    {
      "cell_type": "markdown",
      "metadata": {
        "id": "9_uMeNECrmO9"
      },
      "source": [
        "> Handelt es sich beim Signal $$x[k]=e^{-k}\\varepsilon[k]$$ um ein Energie- oder ein Leistungssignal? ($\\varepsilon[k]$ ist die Sprungfolge!) Berechnen Sie entsprechend die Energie $E_x$ bzw. die Leistung $P_x$ des Signals.\n",
        "(Formel für die geometrische Reihe: $\\sum_{k=0}^\\infty q^k=\\frac 1{1-q}$ für $|q|<1$.)"
      ]
    },
    {
      "cell_type": "code",
      "execution_count": null,
      "metadata": {},
      "outputs": [],
      "source": [
        "dt = 0.5\n",
        "t = np.arange(0., 5., dt)\n",
        "plt.plot(t, np.e**t, 'bs')\n",
        "plt.title(\"e-Funktion\")"
      ]
    },
    {
      "cell_type": "markdown",
      "metadata": {},
      "source": [
        "Bei $x[k]=e^{-k}\\varepsilon[k]$ \n",
        "\n",
        "**Analogie**: Wenn man einen Kuchen unendlich viel mal halbiert, erhält man unendliche viele Stücke, aber man hat nicht unendlich viel Kuchen."
      ]
    },
    {
      "cell_type": "markdown",
      "metadata": {
        "id": "cbbIplR7sDQq"
      },
      "source": [
        "## Aufgabe 3"
      ]
    },
    {
      "cell_type": "markdown",
      "metadata": {
        "id": "HcR27OJwsFJE"
      },
      "source": [
        ">Versuchen Sie, die Energie des kontinuierlichen Signals ${\\rm si}(t)$ numerisch zu berechnen. Handelt es sich dabei um ein Energie- oder ein Leistungssignal?"
      ]
    },
    {
      "cell_type": "code",
      "execution_count": null,
      "metadata": {
        "id": "BiopEayHsLqC"
      },
      "outputs": [],
      "source": [
        "import numpy as np\n",
        "\n",
        "dt = 0.01\n",
        "t = np.arange(-100.005,100.0,dt)\n",
        "\n",
        "# e_si = np.sum(...)\n",
        "\n",
        "print(e_si)"
      ]
    },
    {
      "cell_type": "markdown",
      "metadata": {
        "id": "se81SXcub0Hu"
      },
      "source": [
        "## Aufgabe 4"
      ]
    },
    {
      "cell_type": "markdown",
      "metadata": {
        "id": "-s8rXqVor6ac"
      },
      "source": [
        ">Berechnen Sie die Autokorrelationsfolgen der vier aufgelisteten Folgen $x_1[k]$, $x_2[k]$, $x_3[k]$ und $x_4[k]$ mit Hilfe der Funktion \n",
        "\n",
        ">```\n",
        "np.correlate(x,y,mode='full')\n",
        "```"
      ]
    },
    {
      "cell_type": "code",
      "execution_count": null,
      "metadata": {
        "id": "F9rxCs-8bSF_"
      },
      "outputs": [],
      "source": [
        "x_1 = [1,-1,1,1]\n",
        "x_2 = [1,1,1,-1,-1,1,-1]\n",
        "x_3 = [1,1,1,-1,-1,-1,1,-1,-1,1,-1]\n",
        "x_4 = [1,1,1,1,1,-1,-1,1,1,-1,1,-1,1]"
      ]
    },
    {
      "cell_type": "code",
      "execution_count": null,
      "metadata": {
        "id": "Usw3T6VRcbfv"
      },
      "outputs": [],
      "source": [
        "import numpy as np\n",
        "import matplotlib.pyplot as plt\n",
        "\n",
        "x = x_1\n",
        "m = np.arange(1-len(x),len(x))\n",
        "# compute the auto-correlation here\n",
        "# c = ...\n",
        "\n",
        "plt.stem(m,c)\n",
        "plt.show()"
      ]
    },
    {
      "cell_type": "markdown",
      "metadata": {
        "id": "QcT1_Nji9_V6"
      },
      "source": [
        "## Aufgabe 5"
      ]
    },
    {
      "cell_type": "markdown",
      "metadata": {
        "id": "C_hHInzR-ADk"
      },
      "source": [
        ">Bestimmen Sie den Realteil und den Imaginärteil des Signals $$x(t)=\\frac1{1+jt}.$$\n",
        "Handelt es sich bei $x(t)$ um ein *konjugiert gerades* oder ein *konjugiert ungerades* Signal?"
      ]
    }
  ],
  "metadata": {
    "colab": {
      "collapsed_sections": [],
      "provenance": []
    },
    "kernelspec": {
      "display_name": "Python 3.10.4 64-bit",
      "language": "python",
      "name": "python3"
    },
    "language_info": {
      "codemirror_mode": {
        "name": "ipython",
        "version": 3
      },
      "file_extension": ".py",
      "mimetype": "text/x-python",
      "name": "python",
      "nbconvert_exporter": "python",
      "pygments_lexer": "ipython3",
      "version": "3.10.4"
    },
    "vscode": {
      "interpreter": {
        "hash": "546f13b69da2962342bc38bd9c14a62503869531149da76b165cebcf3f8efe14"
      }
    }
  },
  "nbformat": 4,
  "nbformat_minor": 0
}
