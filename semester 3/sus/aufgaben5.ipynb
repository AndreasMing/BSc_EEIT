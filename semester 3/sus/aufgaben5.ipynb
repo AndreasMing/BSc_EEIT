{
 "cells": [
  {
   "cell_type": "code",
   "execution_count": 45,
   "metadata": {},
   "outputs": [],
   "source": [
    "# import needed libraries for all plot and numbering stuff\n",
    "import numpy as np\n",
    "import pandas as pd\n",
    "import matplotlib as mpl\n",
    "import matplotlib.pyplot as plt\n",
    "\n",
    "# [CONFIGS] --------------------------------------\n",
    "mpl.rcParams['figure.dpi'] = 120"
   ]
  },
  {
   "cell_type": "markdown",
   "metadata": {},
   "source": [
    "![](./assets/thumbnail.jpg)\n",
    "\n",
    "# **Aufgaben 5** - *z-Transformation*"
   ]
  },
  {
   "cell_type": "markdown",
   "metadata": {
    "id": "T_goSp8sonYX"
   },
   "source": [
    "## Aufgabe 1\n",
    "\n",
    "Berechnen Sie die z-Transformierten $X(z)$ der Folgen unter Benutzung der Eigenschaften und Regeln der z-Transformation:\n",
    "\n",
    ">a. $x[k]=k^2\\cdot\\varepsilon[k]$"
   ]
  },
  {
   "cell_type": "markdown",
   "metadata": {},
   "source": [
    "$$\n",
    "k^2\\cdot \\varepsilon[k] \\longleftrightarrow \\frac{z^2+z}{(z-1)^3}\n",
    "$$"
   ]
  },
  {
   "cell_type": "markdown",
   "metadata": {},
   "source": [
    ">b. $x[k]=k\\cdot a^{k−k_0}\\cdot\\varepsilon[k−k_0]$"
   ]
  },
  {
   "cell_type": "markdown",
   "metadata": {},
   "source": [
    "$$\n",
    "k\\cdot a^{k−k_0}\\cdot\\varepsilon[k−k_0] \\longleftrightarrow \\frac{k_0\\cdot z^{-k_0+2}-a\\cdot k_0 \\cdot z^{-k_0+1}+a\\cdot z^{-k_0+1}}{(z-a)^2} = \\frac{z^{-k_0}(k_0\\cdot z^{2}-a\\cdot k_0 \\cdot z+a\\cdot z)}{(z-a)^2}\n",
    "$$"
   ]
  },
  {
   "cell_type": "markdown",
   "metadata": {},
   "source": [
    ">c. $x[k]=k\\cdot a^{k−k_0}\\cdot\\varepsilon[k]$"
   ]
  },
  {
   "cell_type": "code",
   "execution_count": 60,
   "metadata": {},
   "outputs": [
    {
     "data": {
      "image/png": "[encoded data removed]",
      "text/plain": [
       "<Figure size 720x480 with 1 Axes>"
      ]
     },
     "metadata": {
      "needs_background": "light"
     },
     "output_type": "display_data"
    }
   ],
   "source": [
    "def get_y(x,a,k,k0):\n",
    "  return a**(k-k0)*k*x[-1] # [-1] => takes last element of array\n",
    "                                       # [-2] => take second last element of array\n",
    "a = 0.9\n",
    "k0 = 3\n",
    "x = [0]\n",
    "y = [0]\n",
    "#k = -1, 0\n",
    "for i in range(0,21):\n",
    "  y.append(get_y(x,a,i,k0))\n",
    "  x.append(1)\n",
    "plt.vlines([3],[0],[max(y)], colors=\"gray\", linestyles=\"dashed\")\n",
    "plt.text(k0+0.2, 0,\"$k_0$\")\n",
    "plt.scatter(np.arange(-1,21,1),y, zorder = 3)\n",
    "plt.scatter(np.arange(-1,21,1),x, zorder = 3)\n",
    "plt.title(f'impulse response $a={a}$, $k_0={k0}$')\n",
    "plt.xticks(np.arange(-1,22,1))\n",
    "plt.yticks(np.arange(0,max(y),1))\n",
    "plt.xlabel('k')\n",
    "plt.ylabel('h[k]')\n",
    "plt.grid(True, zorder = 0, alpha=0.3)\n",
    "plt.show()"
   ]
  },
  {
   "cell_type": "markdown",
   "metadata": {},
   "source": [
    "$$\n",
    "k\\cdot a^{k−k_0}\\cdot\\varepsilon[k] \\longleftrightarrow \n",
    "$$"
   ]
  },
  {
   "cell_type": "markdown",
   "metadata": {},
   "source": [
    ">d. $x[k]=k\\cdot e^{−2k}\\cdot\\sin(Ω_0k)\\cdot ε[k] $"
   ]
  },
  {
   "cell_type": "markdown",
   "metadata": {},
   "source": [
    "$$\n",
    "k\\cdot e^{−2k}\\cdot\\sin(Ω_0k)\\cdot ε[k] \\longleftrightarrow\n",
    "$$"
   ]
  },
  {
   "cell_type": "markdown",
   "metadata": {},
   "source": [
    "\n",
    "(Hinweis: Eulersche Formel $\\sin x=\\frac{e^{jx}−e^{−jx}}{2j}$)\n",
    "\n",
    "(aus T. Frey, M. Bossert, Signal- und Systemtheorie, Aufg. 4.2)"
   ]
  },
  {
   "cell_type": "markdown",
   "metadata": {},
   "source": [
    "## Aufgabe 2\n",
    "\n",
    "Berechnen Sie die z-Transformierten folgender Signale (ohne antikausale Signalanteile) unter Angabe des Konvergenzgebiets.\n",
    "\n",
    "![alt text](https://drive.google.com/uc?id=1XMHvRu--_iePS0UgMUUL4ot1v91ucEeb)\n",
    "\n",
    "(aus T. Frey, M. Bossert, Signal- und Systemtheorie, Aufg. 4.3)"
   ]
  },
  {
   "cell_type": "markdown",
   "metadata": {},
   "source": [
    "## Aufgabe 3\n",
    "\n",
    "Transformieren Sie das Signal gegeben durch\n",
    "\n",
    "\\begin{equation}\n",
    "X(z)=\\frac{z^3+\\frac32z^2+z}{z−\\frac12},\\hspace{2mm}|z|>r_0\n",
    "\\end{equation}\n",
    "\n",
    "in den Zeitbereich zurück."
   ]
  },
  {
   "cell_type": "markdown",
   "metadata": {},
   "source": [
    "$$\n",
    "x[k]=\\delta[k+2] + 2\\cdot \\delta[k+1] + 2 \\cdot \\left(\\frac{1}{2}\\right)^k\\cdot\\varepsilon[k]"
   ]
  },
  {
   "cell_type": "markdown",
   "metadata": {},
   "source": [
    "## Aufgabe 4\n",
    "\n",
    "Manche Signale (z.B. Börsenkurse) haben zickzackartige Verläufe, doch schaut man sich für die Bestimmung von Trends lieber geglättete Kurven an, bei welchen kurzzeitige Schwankungen unterdrückt sind. Dazu soll im Folgenden ein LTI-System entworfen werden.\n",
    "\n",
    "> a. Geben Sie die Impulsantwort $h_5[k]$ und die dazugehörige Systemfunktion $H_5(z)$ eines diskreten LTI-Systems an, welches über die letzten fünf Eingangswerte mittelt.\n"
   ]
  },
  {
   "cell_type": "markdown",
   "metadata": {},
   "source": [
    "\n",
    "> b. Wenden Sie das System $H_5(z)$ auf die Folge $x[k]$ im nachfolgenden Python-Skript an und betrachten Sie das Ergebnis.\n"
   ]
  },
  {
   "cell_type": "code",
   "execution_count": 3,
   "metadata": {},
   "outputs": [
    {
     "data": {
      "image/png": "[encoded data removed]",
      "text/plain": [
       "<Figure size 480x320 with 1 Axes>"
      ]
     },
     "metadata": {
      "needs_background": "light"
     },
     "output_type": "display_data"
    }
   ],
   "source": [
    "x = np.cumsum(np.concatenate((np.zeros(4),np.random.randn(100))))\n",
    "\n",
    "plt.stem(range(-4,100),x)\n",
    "plt.title('signal x')\n",
    "plt.xlabel('k')\n",
    "plt.ylabel('x[k]')\n",
    "plt.grid(True)"
   ]
  },
  {
   "cell_type": "markdown",
   "metadata": {},
   "source": [
    "> c. Es sind auch Mittelungen denkbar, die weiter in der Vergangenheit liegenden Werten weniger Gewicht geben. Machen Sie Vorschläge für entsprechende Impulsantworten. Welche Eigenschaft muss die Systemfunktion $H(z)$ generell erfüllen, damit die Ausgabe *erwartungstreu* ist, d.h., bei einem konstanten Eingangssignal $x[k]=c$ das konstante Ausgangssignal $y[k]=c$ anliegt?"
   ]
  },
  {
   "cell_type": "markdown",
   "metadata": {},
   "source": [
    "## Aufgabe 5\n",
    "\n",
    "Alternativ kann eine Folge mittels einer Rückkopplung des Ausgangssignals geglättet werden. Im Folgenden soll ein System untersucht werden, welches jeweils zum mit $a$ gewichteten momentanen Eingangswert den mit $b$ gewichteten vorhergehenden Ausgangswert addiert.\n",
    "\n",
    "> a. Wie lauten entsprechend die Differenzengleichung und die Übertragungsfunktion?"
   ]
  },
  {
   "cell_type": "markdown",
   "metadata": {},
   "source": [
    "\n",
    "> b. Welche Bedingungen müssen $a$ und $b$ erfüllen, so dass die Ausgabe erwartungstreu ist? Realisieren Sie das System in Python und vergleichen Sie die Resultate mit Aufgabe 4."
   ]
  }
 ],
 "metadata": {
  "kernelspec": {
   "display_name": "Python 3.10.4 64-bit",
   "language": "python",
   "name": "python3"
  },
  "language_info": {
   "codemirror_mode": {
    "name": "ipython",
    "version": 3
   },
   "file_extension": ".py",
   "mimetype": "text/x-python",
   "name": "python",
   "nbconvert_exporter": "python",
   "pygments_lexer": "ipython3",
   "version": "3.10.4"
  },
  "orig_nbformat": 4,
  "vscode": {
   "interpreter": {
    "hash": "546f13b69da2962342bc38bd9c14a62503869531149da76b165cebcf3f8efe14"
   }
  }
 },
 "nbformat": 4,
 "nbformat_minor": 2
}
